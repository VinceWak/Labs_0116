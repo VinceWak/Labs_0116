{
 "cells": [
  {
   "cell_type": "markdown",
   "metadata": {},
   "source": [
    "## Nested Dicitonaries refresher..."
   ]
  },
  {
   "cell_type": "code",
   "execution_count": 1,
   "metadata": {},
   "outputs": [
    {
     "name": "stdout",
     "output_type": "stream",
     "text": [
      "John\n",
      "27\n",
      "Male\n"
     ]
    }
   ],
   "source": [
    "people_dic = {\"person_1\": {'name': 'John', 'age': '27', 'sex': 'Male'},\n",
    "          \"person_2\": {'name': 'Marie', 'age': '22', 'sex': 'Female'}}\n",
    "\n",
    "print(people_dic[\"person_1\"]['name'])\n",
    "print(people_dic[\"person_1\"]['age'])\n",
    "print(people_dic[\"person_1\"]['sex'])"
   ]
  },
  {
   "cell_type": "markdown",
   "metadata": {},
   "source": [
    "<b> Iterating through nested dictionary"
   ]
  },
  {
   "cell_type": "code",
   "execution_count": 2,
   "metadata": {},
   "outputs": [
    {
     "name": "stdout",
     "output_type": "stream",
     "text": [
      "\n",
      "Person ID: person_1\n",
      "name: John\n",
      "age: 27\n",
      "sex: Male\n",
      "\n",
      "Person ID: person_2\n",
      "name: Marie\n",
      "age: 22\n",
      "sex: Female\n"
     ]
    }
   ],
   "source": [
    "for p_id, p_info in people_dic.items():\n",
    "    print(\"\\nPerson ID:\", p_id)\n",
    "    \n",
    "    for key in p_info:\n",
    "        print(key + ':', p_info[key])"
   ]
  },
  {
   "cell_type": "markdown",
   "metadata": {
    "id": "-M3QFIFrKdPt"
   },
   "source": [
    "# Installing Spotipy"
   ]
  },
  {
   "cell_type": "markdown",
   "metadata": {},
   "source": [
    "What we need:\n",
    "\n",
    "- BeautifulSoup, a powerful webscraping library. Install it into your conda environment with `conda install -c anaconda beautifulsoup4`\n",
    "\n",
    "- requests, a library to send HTTP requests. Install it with `conda install -c anaconda requests`\n",
    "\n",
    "- spotipy, an API wrapper library to conveniently access the Spotify API in Python. We need that towards middle of the week. `Install via conda install -c conda-forge spotipy`\n",
    "\n",
    "- A spotify account. Not a paid one. A free one will be just fine. Although you can use your existing one, if you already have one. Nonetheless, It is better to have separate spotify developer account and not using your normal spotify account.\n",
    "\n",
    "In order to get access to the Spotify API, we need to get our own client_id and client_secret (never share these with anyone and don't upload it to github. You can reset the secret though, if you have accidentally published it). To get it, go to developer.spotify.com , login with your account credentials, accept the terms of conditions. In the following click on \"create an app\". Give it a name, check that you understand the TOS. That green rectangle that now appears is your app (see screenshots). Click it, and in there you need to copy your client_id and client_secret.\n"
   ]
  },
  {
   "cell_type": "code",
   "execution_count": 3,
   "metadata": {},
   "outputs": [],
   "source": [
    "import spotipy"
   ]
  },
  {
   "cell_type": "markdown",
   "metadata": {
    "id": "fnhh4ayEOKz4"
   },
   "source": [
    "## Loading credentials from another config file"
   ]
  },
  {
   "cell_type": "markdown",
   "metadata": {},
   "source": [
    "In Python, a configuration file is a file that contains settings or configuration options for a program or application. These files are typically written in a format that can be easily parsed by Python, such as INI, YAML, or JSON.\n",
    "\n",
    "An import statement in Python allows 'you to load and use code from another Python file or module in your program. So, when we say \"import config file\" in Python, we typically mean that we are loading a Python module or file that contains configuration settings for our program.\n",
    "\n",
    "To create a config file in Python, you might create a separate Python module or file that defines configuration variables or settings as global variables or as a dictionary or other data structure. For example, you might create a file called \"config.py\" . Then, in your main program, you can import these configuration variables by using the \"import\" statement. \n",
    "\n",
    "This will load the variables defined in the \"config.py\" file and make them available for use in the \"main.py\" program. By keeping configuration settings separate from the main program logic, you can more easily update and manage these settings without affecting the core functionality of your program.\n",
    "\n",
    "\n",
    "\n"
   ]
  },
  {
   "cell_type": "code",
   "execution_count": 4,
   "metadata": {
    "colab": {
     "base_uri": "https://localhost:8080/"
    },
    "executionInfo": {
     "elapsed": 23559,
     "status": "ok",
     "timestamp": 1623745938174,
     "user": {
      "displayName": "Ignacio Soteras",
      "photoUrl": "",
      "userId": "02050793736257155229"
     },
     "user_tz": -120
    },
    "id": "5j1kqPOoN_I5",
    "outputId": "23c4b5dd-b94b-425d-e2b9-e5647cb055df"
   },
   "outputs": [
    {
     "ename": "ModuleNotFoundError",
     "evalue": "No module named 'config'",
     "output_type": "error",
     "traceback": [
      "\u001b[0;31m---------------------------------------------------------------------------\u001b[0m",
      "\u001b[0;31mModuleNotFoundError\u001b[0m                       Traceback (most recent call last)",
      "\u001b[0;32m/var/folders/wx/v19kf4_j1p1gwtlfg83w0_gm0000gn/T/ipykernel_2683/2018339830.py\u001b[0m in \u001b[0;36m<module>\u001b[0;34m\u001b[0m\n\u001b[0;32m----> 1\u001b[0;31m \u001b[0;32mimport\u001b[0m \u001b[0mconfig\u001b[0m\u001b[0;34m\u001b[0m\u001b[0;34m\u001b[0m\u001b[0m\n\u001b[0m",
      "\u001b[0;31mModuleNotFoundError\u001b[0m: No module named 'config'"
     ]
    }
   ],
   "source": [
    "import config"
   ]
  },
  {
   "cell_type": "markdown",
   "metadata": {
    "id": "0fpGWmsCOSx0"
   },
   "source": [
    "## Starting with Spotify API"
   ]
  },
  {
   "cell_type": "markdown",
   "metadata": {
    "id": "o2ooSokHKfsd"
   },
   "source": [
    "In order to use the Spotify API (SpotiPy) we will have to create an account in Spotify and follow these steps. Once we have done it we will start initializing the API and look at the search method for which we can introduce a \"query\" q, in this example we will try it with Lady Gaga:"
   ]
  },
  {
   "cell_type": "code",
   "execution_count": 3,
   "metadata": {
    "colab": {
     "base_uri": "https://localhost:8080/"
    },
    "executionInfo": {
     "elapsed": 313,
     "status": "ok",
     "timestamp": 1623747121467,
     "user": {
      "displayName": "Ignacio Soteras",
      "photoUrl": "",
      "userId": "02050793736257155229"
     },
     "user_tz": -120
    },
    "id": "-0qiqFTZqqE2",
    "outputId": "c532baae-8ff5-4abc-b70e-0bda934d25b1",
    "scrolled": true
   },
   "outputs": [
    {
     "ename": "NameError",
     "evalue": "name 'config' is not defined",
     "output_type": "error",
     "traceback": [
      "\u001b[0;31m---------------------------------------------------------------------------\u001b[0m",
      "\u001b[0;31mNameError\u001b[0m                                 Traceback (most recent call last)",
      "\u001b[0;32m/var/folders/wx/v19kf4_j1p1gwtlfg83w0_gm0000gn/T/ipykernel_18871/1837117084.py\u001b[0m in \u001b[0;36m<module>\u001b[0;34m\u001b[0m\n\u001b[1;32m      5\u001b[0m \u001b[0;34m\u001b[0m\u001b[0m\n\u001b[1;32m      6\u001b[0m \u001b[0;31m#Initialize SpotiPy with user credentias\u001b[0m\u001b[0;34m\u001b[0m\u001b[0;34m\u001b[0m\u001b[0m\n\u001b[0;32m----> 7\u001b[0;31m sp = spotipy.Spotify(auth_manager=SpotifyClientCredentials(client_id= config.client_id,\n\u001b[0m\u001b[1;32m      8\u001b[0m                                                            client_secret= config.client_secret))\n\u001b[1;32m      9\u001b[0m \u001b[0;34m\u001b[0m\u001b[0m\n",
      "\u001b[0;31mNameError\u001b[0m: name 'config' is not defined"
     ]
    }
   ],
   "source": [
    "import spotipy\n",
    "import json\n",
    "from spotipy.oauth2 import SpotifyClientCredentials\n",
    "\n",
    "\n",
    "#Initialize SpotiPy with user credentias\n",
    "sp = spotipy.Spotify(auth_manager=SpotifyClientCredentials(client_id= config.client_id,\n",
    "                                                           client_secret= config.client_secret))\n",
    "\n",
    "# The \"sp\" variable has two useful funtions:\n",
    "# The first usefull function is:\n",
    "# .search(q='',limit=n)\n",
    "# .search(q=\"track:\"+song_name+\" artist:\"+artist_name,limit=5) to restrict to a song name and artist.\n",
    "# Where the \"q\" keyword is the query you want to perform on spotify: song_name, artist,...\n",
    "# while The \"limit\" keyword will limit the number of returned results.\n",
    "#\n",
    "# The second usefull function is:\n",
    "# .audio_features([URL|URI|ID])\n",
    "# which returns some 'features of the song', that after cleanup, we can use in order to characterize a song.\n",
    "\n",
    "results = sp.search(q=\"Lose yourself\",limit=3,market=\"GB\")\n",
    "results\n",
    "#json_results = json.dumps(results, ensure_ascii=True)\n",
    "#json_results\n",
    "#results['tracks']['items'][0]['external_urls'][\"spotify\"]"
   ]
  },
  {
   "cell_type": "markdown",
   "metadata": {},
   "source": [
    "<b> more readable version"
   ]
  },
  {
   "cell_type": "code",
   "execution_count": null,
   "metadata": {
    "colab": {
     "base_uri": "https://localhost:8080/"
    },
    "executionInfo": {
     "elapsed": 371,
     "status": "ok",
     "timestamp": 1623747326810,
     "user": {
      "displayName": "Ignacio Soteras",
      "photoUrl": "",
      "userId": "02050793736257155229"
     },
     "user_tz": -120
    },
    "id": "7zpZOuf74E3B",
    "outputId": "c6ea41eb-d414-41a7-d7aa-eb33dfd29823"
   },
   "outputs": [],
   "source": [
    "import pprint\n",
    "\n",
    "pprint.pprint(results)"
   ]
  },
  {
   "cell_type": "markdown",
   "metadata": {},
   "source": [
    "<b> navigating through the dictionary.."
   ]
  },
  {
   "cell_type": "code",
   "execution_count": null,
   "metadata": {
    "colab": {
     "base_uri": "https://localhost:8080/"
    },
    "executionInfo": {
     "elapsed": 286,
     "status": "ok",
     "timestamp": 1623747145364,
     "user": {
      "displayName": "Ignacio Soteras",
      "photoUrl": "",
      "userId": "02050793736257155229"
     },
     "user_tz": -120
    },
    "id": "WcH0WXJ3X97h",
    "outputId": "9c300954-c083-4ee4-a0d0-8004825809d6"
   },
   "outputs": [],
   "source": [
    "results['tracks'][\"items\"][0].keys()"
   ]
  },
  {
   "cell_type": "code",
   "execution_count": null,
   "metadata": {
    "colab": {
     "base_uri": "https://localhost:8080/"
    },
    "executionInfo": {
     "elapsed": 350,
     "status": "ok",
     "timestamp": 1623747150633,
     "user": {
      "displayName": "Ignacio Soteras",
      "photoUrl": "",
      "userId": "02050793736257155229"
     },
     "user_tz": -120
    },
    "id": "K975xBBkrehs",
    "outputId": "03ba1f52-1811-4154-da75-7034362d7e44"
   },
   "outputs": [],
   "source": [
    "results['tracks']['items'][0]"
   ]
  },
  {
   "cell_type": "markdown",
   "metadata": {},
   "source": [
    "<b> getting the track id"
   ]
  },
  {
   "cell_type": "code",
   "execution_count": null,
   "metadata": {
    "colab": {
     "base_uri": "https://localhost:8080/",
     "height": 35
    },
    "executionInfo": {
     "elapsed": 8,
     "status": "ok",
     "timestamp": 1623747420976,
     "user": {
      "displayName": "Ignacio Soteras",
      "photoUrl": "",
      "userId": "02050793736257155229"
     },
     "user_tz": -120
    },
    "id": "-s66JnDcYrQ4",
    "outputId": "0745b73d-f912-4618-e28f-b22f70c40e4d"
   },
   "outputs": [],
   "source": [
    "results['tracks']['items'][0]['id']"
   ]
  },
  {
   "cell_type": "code",
   "execution_count": null,
   "metadata": {
    "colab": {
     "base_uri": "https://localhost:8080/"
    },
    "executionInfo": {
     "elapsed": 330,
     "status": "ok",
     "timestamp": 1623747443303,
     "user": {
      "displayName": "Ignacio Soteras",
      "photoUrl": "",
      "userId": "02050793736257155229"
     },
     "user_tz": -120
    },
    "id": "Pe8hlEUPYu3a",
    "outputId": "57786b5a-1877-44a6-9249-72cec7204733"
   },
   "outputs": [],
   "source": [
    "for item in results['tracks']['items']:\n",
    "    print(\"The name of song is: '{}' and the id is: {}\".format(item['name'],item[\"id\"]))"
   ]
  },
  {
   "cell_type": "code",
   "execution_count": null,
   "metadata": {
    "colab": {
     "base_uri": "https://localhost:8080/",
     "height": 153
    },
    "executionInfo": {
     "elapsed": 343,
     "status": "ok",
     "timestamp": 1623748010778,
     "user": {
      "displayName": "Ignacio Soteras",
      "photoUrl": "",
      "userId": "02050793736257155229"
     },
     "user_tz": -120
    },
    "id": "ae3ey51ldj22",
    "outputId": "e12d9994-b937-4c19-f40c-2c594ed79c48",
    "scrolled": true
   },
   "outputs": [],
   "source": [
    "import pandas as pd\n",
    "\n",
    "song = sp.search(q=\"Bad Guy\", limit=50,market=\"GB\") \n",
    "song"
   ]
  },
  {
   "cell_type": "code",
   "execution_count": null,
   "metadata": {},
   "outputs": [],
   "source": [
    "song[\"tracks\"][\"items\"][2]"
   ]
  },
  {
   "cell_type": "code",
   "execution_count": null,
   "metadata": {},
   "outputs": [],
   "source": [
    "#pprint.pprint(song['tracks']['items'][0]['uri'])\n",
    "song[\"tracks\"][\"items\"][0][\"uri\"]"
   ]
  },
  {
   "cell_type": "markdown",
   "metadata": {
    "id": "wlYAUHZMGEPp"
   },
   "source": [
    "# Understanding the json"
   ]
  },
  {
   "cell_type": "markdown",
   "metadata": {
    "id": "PSk_-FAqDW4q"
   },
   "source": [
    "Understanding the hierachy of a JSON can make you mad. Therefore you can cosider using some online pages where you can paste your JSON file and see the \"tree\" structure of the file.\n",
    "\n",
    "https://codebeautify.org/jsonviewer\n",
    "\n",
    "So, copy the json output from the previous query and paste it on the website's left panel. On the right panel you will be able to see the hierachy of the json file."
   ]
  },
  {
   "cell_type": "markdown",
   "metadata": {
    "id": "TB8tYM3KEZSx"
   },
   "source": [
    "Let's get used to the json at hand."
   ]
  },
  {
   "cell_type": "code",
   "execution_count": null,
   "metadata": {
    "colab": {
     "base_uri": "https://localhost:8080/"
    },
    "executionInfo": {
     "elapsed": 336,
     "status": "ok",
     "timestamp": 1623748232522,
     "user": {
      "displayName": "Ignacio Soteras",
      "photoUrl": "",
      "userId": "02050793736257155229"
     },
     "user_tz": -120
    },
    "id": "gQzoV9fjEbm6",
    "outputId": "0747fac5-b2f5-44a0-a9cd-393ed3196cbf",
    "scrolled": true
   },
   "outputs": [],
   "source": [
    "print(\"The json file has the following keys: \",list(results.keys())) # We can see that we only have tracks\n",
    "print(\"The 'tracks' key has the following child keys: \",list(results[\"tracks\"].keys())) # Let's check the values\n",
    "print(\"The query we made is: \",results[\"tracks\"][\"href\"]) # Query we have searched \n",
    "print(\"The song's info is contained in: \",results[\"tracks\"][\"items\"]) #items (actual tracks)\n",
    "print(\"The limit of the query we've made is: \",results[\"tracks\"][\"limit\"]) #Limit we have chosen\n",
    "print(\"The next page if any: \",results[\"tracks\"][\"next\"]) #link to the next page (next 50 tracks)\n",
    "print(\"The starting webpage: \",results[\"tracks\"][\"offset\"]) # Actual offset (starting point)\n",
    "print(\"Starting webpage: \",results[\"tracks\"][\"previous\"]) #Previous search\n",
    "print(\"Total number of results: \",results[\"tracks\"][\"total\"]) # Number of matches"
   ]
  },
  {
   "cell_type": "markdown",
   "metadata": {
    "id": "ztXFl2wtGpBI"
   },
   "source": [
    "## Checking albums"
   ]
  },
  {
   "cell_type": "code",
   "execution_count": null,
   "metadata": {
    "colab": {
     "base_uri": "https://localhost:8080/"
    },
    "executionInfo": {
     "elapsed": 285,
     "status": "ok",
     "timestamp": 1623748499833,
     "user": {
      "displayName": "Ignacio Soteras",
      "photoUrl": "",
      "userId": "02050793736257155229"
     },
     "user_tz": -120
    },
    "id": "GHbz4J3JGrph",
    "outputId": "5a2bd5c0-4aab-43a0-b38d-c7885a2e2241"
   },
   "outputs": [],
   "source": [
    "print(results[\"tracks\"][\"items\"][0][\"album\"]) # we have more info about the album\n",
    "print(\"****************\\n\")\n",
    "print(list(results[\"tracks\"][\"items\"][0][\"album\"].keys())) # Will check artists, id, name, release date, total tracks \n",
    "print(\"****************\\n\")\n",
    "print(results[\"tracks\"][\"items\"][0][\"album\"][\"artists\"]) # List with artists and information\n",
    "print(\"****************\\n\")\n",
    "print(\"The album ID is: \",results[\"tracks\"][\"items\"][0][\"album\"][\"id\"]) # Album ID \n",
    "print(\"****************\\n\")\n",
    "print(results[\"tracks\"][\"items\"][0][\"album\"][\"name\"]) # Album name (if its a single u'll get the name of the song)"
   ]
  },
  {
   "cell_type": "markdown",
   "metadata": {
    "id": "ma33RhJ3GyyD"
   },
   "source": [
    "## Other Info"
   ]
  },
  {
   "cell_type": "code",
   "execution_count": null,
   "metadata": {
    "colab": {
     "base_uri": "https://localhost:8080/",
     "height": 35
    },
    "executionInfo": {
     "elapsed": 314,
     "status": "ok",
     "timestamp": 1623748532709,
     "user": {
      "displayName": "Ignacio Soteras",
      "photoUrl": "",
      "userId": "02050793736257155229"
     },
     "user_tz": -120
    },
    "id": "rpRcNkuhG1Ht",
    "outputId": "bb6cc417-17bd-404f-d31c-302a97bf9ffe"
   },
   "outputs": [],
   "source": [
    "results[\"tracks\"][\"items\"][0][\"artists\"] # Track artists\n",
    "results[\"tracks\"][\"items\"][0][\"id\"] # Track ID\n",
    "results[\"tracks\"][\"items\"][0][\"name\"] # Track name\n",
    "results[\"tracks\"][\"items\"][0][\"popularity\"] # Popularity index\n",
    "results[\"tracks\"][\"items\"][0][\"uri\"] # Basically ID"
   ]
  },
  {
   "cell_type": "markdown",
   "metadata": {},
   "source": [
    "## Embeded track player"
   ]
  },
  {
   "cell_type": "markdown",
   "metadata": {
    "id": "DLMGLXLm2e-1"
   },
   "source": [
    "{'spotify': https://open.spotify.com/track/4O2N861eOnF9q8EtpH8IJu"
   ]
  },
  {
   "cell_type": "code",
   "execution_count": null,
   "metadata": {},
   "outputs": [],
   "source": [
    "from IPython.display import IFrame\n",
    "\n",
    "#track_id = \"1rfORa9iYmocEsnnZGMVC4\"\n",
    "track_id= 'spotify:track:3hgl7EQwTutSm6PESsB7gZ'\n",
    "IFrame(src=\"https://open.spotify.com/embed/track/\"+track_id+\"?utm_source=generator\",\n",
    "       width=\"320\",\n",
    "       height=\"80\",\n",
    "       frameborder=\"0\",\n",
    "       allowtransparency=\"true\",\n",
    "       allow=\"encrypted-media\",\n",
    "      )"
   ]
  },
  {
   "cell_type": "code",
   "execution_count": null,
   "metadata": {},
   "outputs": [],
   "source": [
    "def play_song(track_id):\n",
    "    return IFrame(src=\"https://open.spotify.com/embed/track/\"+track_id,\n",
    "       width=\"320\",\n",
    "       height=\"80\",\n",
    "       frameborder=\"0\",\n",
    "       allowtransparency=\"true\",\n",
    "       allow=\"encrypted-media\",\n",
    "      )"
   ]
  },
  {
   "cell_type": "code",
   "execution_count": null,
   "metadata": {},
   "outputs": [],
   "source": [
    "play_song(\"1rfORa9iYmocEsnnZGMVC4\")"
   ]
  },
  {
   "cell_type": "markdown",
   "metadata": {},
   "source": [
    "# Getting the Audio feature of a song"
   ]
  },
  {
   "cell_type": "code",
   "execution_count": null,
   "metadata": {},
   "outputs": [],
   "source": [
    "results[\"tracks\"][\"items\"][0][\"id\"]"
   ]
  },
  {
   "cell_type": "code",
   "execution_count": null,
   "metadata": {},
   "outputs": [],
   "source": [
    "sp.audio_features(results[\"tracks\"][\"items\"][0][\"id\"] )"
   ]
  },
  {
   "cell_type": "code",
   "execution_count": null,
   "metadata": {},
   "outputs": [],
   "source": [
    "## example of bethoven song\n",
    "sp.audio_features(\"1Y25uib0Cu5kYTtNuRqyRU\")"
   ]
  },
  {
   "cell_type": "markdown",
   "metadata": {},
   "source": [
    "## building Data frame of audio features"
   ]
  },
  {
   "cell_type": "code",
   "execution_count": null,
   "metadata": {},
   "outputs": [],
   "source": [
    "sp.audio_features(song[\"tracks\"][\"items\"][0][\"uri\"])"
   ]
  },
  {
   "cell_type": "code",
   "execution_count": null,
   "metadata": {},
   "outputs": [],
   "source": [
    "#my_dict = sp.audio_features(song[\"tracks\"][\"items\"][0][\"uri\"])[0] # you can provide a list of uri's\n",
    "\n",
    "list_of_songs=[]\n",
    "for index in range(0,len(song[\"tracks\"][\"items\"])):\n",
    "    list_of_songs.append(sp.audio_features(song[\"tracks\"][\"items\"][index][\"uri\"])[0])\n",
    "df=pd.DataFrame(list_of_songs)    \n",
    "df=df[[\"danceability\",\"energy\",\"loudness\",\"speechiness\",\"acousticness\",\n",
    "    \"instrumentalness\",\"liveness\",\"valence\",\"tempo\",\"id\",\"duration_ms\"]]\n",
    "\n",
    "df"
   ]
  },
  {
   "cell_type": "markdown",
   "metadata": {
    "id": "ZdgnthLDIDUz"
   },
   "source": [
    "## Searching a playlist"
   ]
  },
  {
   "cell_type": "code",
   "execution_count": null,
   "metadata": {
    "executionInfo": {
     "elapsed": 287,
     "status": "ok",
     "timestamp": 1623748573692,
     "user": {
      "displayName": "Ignacio Soteras",
      "photoUrl": "",
      "userId": "02050793736257155229"
     },
     "user_tz": -120
    },
    "id": "QFNoaLUpIAVg"
   },
   "outputs": [],
   "source": [
    "playlist = sp.user_playlist_tracks(\"spotify\", \"7beGd4yYY1qpsBv6K3clFZ\",market=\"GB\")"
   ]
  },
  {
   "cell_type": "code",
   "execution_count": null,
   "metadata": {
    "colab": {
     "base_uri": "https://localhost:8080/"
    },
    "executionInfo": {
     "elapsed": 4,
     "status": "ok",
     "timestamp": 1623748576469,
     "user": {
      "displayName": "Ignacio Soteras",
      "photoUrl": "",
      "userId": "02050793736257155229"
     },
     "user_tz": -120
    },
    "id": "hEmemxE9oDwa",
    "outputId": "fb5cd5d8-df90-45b9-e083-0fc52307b408"
   },
   "outputs": [],
   "source": [
    "playlist[\"items\"][0]"
   ]
  },
  {
   "cell_type": "markdown",
   "metadata": {},
   "source": [
    "## extracting a song from playlist"
   ]
  },
  {
   "cell_type": "code",
   "execution_count": null,
   "metadata": {},
   "outputs": [],
   "source": [
    "playlist[\"items\"][0][\"track\"][\"id\"]"
   ]
  },
  {
   "cell_type": "code",
   "execution_count": null,
   "metadata": {},
   "outputs": [],
   "source": [
    "play_song(playlist[\"items\"][0][\"track\"][\"id\"])"
   ]
  },
  {
   "cell_type": "code",
   "execution_count": null,
   "metadata": {
    "colab": {
     "base_uri": "https://localhost:8080/"
    },
    "executionInfo": {
     "elapsed": 363,
     "status": "ok",
     "timestamp": 1623748609799,
     "user": {
      "displayName": "Ignacio Soteras",
      "photoUrl": "",
      "userId": "02050793736257155229"
     },
     "user_tz": -120
    },
    "id": "wG-PfUCEIKvy",
    "outputId": "2c5135b8-7fa6-4f4f-c4d9-a35ed4f949d0"
   },
   "outputs": [],
   "source": [
    "print(list(playlist.keys())) # Let's look at items and total:\n",
    "print(\"Total number of songs in the playlist: \",playlist[\"total\"]) #  Let's check items:\n",
    "len(playlist[\"items\"]) # It is limited to 100 tracks, we will have to fix it:"
   ]
  },
  {
   "cell_type": "markdown",
   "metadata": {
    "id": "8gIIuaAAIhQi"
   },
   "source": [
    "## Extracting the songs of a playlist"
   ]
  },
  {
   "cell_type": "markdown",
   "metadata": {
    "id": "vmwZa11wjBM6"
   },
   "source": [
    "Pagination using \"next\"\n",
    "When you collect songs from a playlist using sp.playlist_tracks, you're limited by the limit parameter, which has a maximum (and default) value of 100. When the playlist has more than 100 songs, you have to collect them by navigating through the \"pages\" of the results.\n",
    "\n",
    "The parameter offset allows you to retrieve resuls starting at a certain position: if you start at position 101, you'd get the next \"page\" of results. An offset of 201 would give you the third page, and so on.\n",
    "\n",
    "The function sp.next() does the same, but in a simpler way: it can be used on the results from any request to directly retrieve the results for the next page.\n",
    "\n",
    "We can check whether there's a next page or not by accessing the key next on the results from any request."
   ]
  },
  {
   "cell_type": "code",
   "execution_count": null,
   "metadata": {
    "colab": {
     "base_uri": "https://localhost:8080/",
     "output_embedded_package_id": "11lmL6TaP4CJpfs0sN7EJh5tcgfZk9V36"
    },
    "executionInfo": {
     "elapsed": 13594,
     "status": "ok",
     "timestamp": 1623748845508,
     "user": {
      "displayName": "Ignacio Soteras",
      "photoUrl": "",
      "userId": "02050793736257155229"
     },
     "user_tz": -120
    },
    "id": "xL2er8hRIl_S",
    "outputId": "d0450533-db51-412d-8d20-43634781280a",
    "scrolled": true
   },
   "outputs": [],
   "source": [
    "def get_playlist_tracks(username, playlist_id):\n",
    "    results = sp.user_playlist_tracks(username,playlist_id,market=\"GB\")\n",
    "    tracks = results['items']\n",
    "    while results['next']:\n",
    "        results = sp.next(results)\n",
    "        tracks.extend(results['items'])\n",
    "    return tracks"
   ]
  },
  {
   "cell_type": "code",
   "execution_count": null,
   "metadata": {
    "scrolled": true
   },
   "outputs": [],
   "source": [
    "tracks=get_playlist_tracks(\"spotify\", \"4rnleEAOdmFAbRcNCgZMpY\")"
   ]
  },
  {
   "cell_type": "markdown",
   "metadata": {},
   "source": [
    "## extracting the songs ids from playlist"
   ]
  },
  {
   "cell_type": "code",
   "execution_count": null,
   "metadata": {},
   "outputs": [],
   "source": [
    "list_of_audio_features=[]\n",
    "for item in range(0,10):\n",
    "    #print (tracks[item][\"track\"][\"id\"])\n",
    "    list_of_audio_features.append(sp.audio_features(tracks[item][\"track\"][\"id\"])[0])"
   ]
  },
  {
   "cell_type": "code",
   "execution_count": null,
   "metadata": {
    "scrolled": true
   },
   "outputs": [],
   "source": [
    "df=pd.DataFrame(list_of_audio_features)    \n",
    "df=df[[\"danceability\",\"energy\",\"loudness\",\"speechiness\",\"acousticness\",\n",
    "    \"instrumentalness\",\"liveness\",\"valence\",\"tempo\",\"id\",\"duration_ms\"]]\n",
    "\n",
    "df"
   ]
  },
  {
   "cell_type": "markdown",
   "metadata": {},
   "source": [
    "## Extra useful functions"
   ]
  },
  {
   "cell_type": "markdown",
   "metadata": {
    "id": "0tlqOKWCJDq1"
   },
   "source": [
    "## Getting the artists of the playlist "
   ]
  },
  {
   "cell_type": "code",
   "execution_count": null,
   "metadata": {
    "executionInfo": {
     "elapsed": 410,
     "status": "ok",
     "timestamp": 1623748940470,
     "user": {
      "displayName": "Ignacio Soteras",
      "photoUrl": "",
      "userId": "02050793736257155229"
     },
     "user_tz": -120
    },
    "id": "idbmLYT7qTCG"
   },
   "outputs": [],
   "source": [
    "def get_artists_from_track(track):\n",
    "    return [artist[\"name\"] for artist in track[\"artists\"]]"
   ]
  },
  {
   "cell_type": "code",
   "execution_count": null,
   "metadata": {
    "executionInfo": {
     "elapsed": 278,
     "status": "ok",
     "timestamp": 1623748991105,
     "user": {
      "displayName": "Ignacio Soteras",
      "photoUrl": "",
      "userId": "02050793736257155229"
     },
     "user_tz": -120
    },
    "id": "VBm6PWerJH6A"
   },
   "outputs": [],
   "source": [
    "def get_artists_from_playlist(playlist_id):\n",
    "    tracks_from_playlist = get_playlist_tracks(\"spotify\", playlist_id)\n",
    "    return list(set(artist for subset in [get_artists_from_track(track[\"track\"]) for track in tracks_from_playlist] for artist in subset))"
   ]
  },
  {
   "cell_type": "code",
   "execution_count": null,
   "metadata": {
    "colab": {
     "base_uri": "https://localhost:8080/"
    },
    "executionInfo": {
     "elapsed": 8072,
     "status": "ok",
     "timestamp": 1623749004146,
     "user": {
      "displayName": "Ignacio Soteras",
      "photoUrl": "",
      "userId": "02050793736257155229"
     },
     "user_tz": -120
    },
    "id": "vMADuNRjCzYW",
    "outputId": "8ed416b0-c989-440f-a7b2-a51ea90177d9"
   },
   "outputs": [],
   "source": [
    "get_artists_from_playlist(\"4rnleEAOdmFAbRcNCgZMpY\")"
   ]
  },
  {
   "cell_type": "markdown",
   "metadata": {
    "id": "MBq_6MslLqN1"
   },
   "source": [
    "# Getting albums "
   ]
  },
  {
   "cell_type": "markdown",
   "metadata": {
    "id": "flAFNc16L7UA"
   },
   "source": [
    "In this section we will work with albums to extract information. We will start by extracting all the albums of an artist."
   ]
  },
  {
   "cell_type": "code",
   "execution_count": null,
   "metadata": {
    "executionInfo": {
     "elapsed": 338,
     "status": "ok",
     "timestamp": 1623749616116,
     "user": {
      "displayName": "Ignacio Soteras",
      "photoUrl": "",
      "userId": "02050793736257155229"
     },
     "user_tz": -120
    },
    "id": "aYMfWpqSL8cv"
   },
   "outputs": [],
   "source": [
    "def get_albums_from_artist(artist_id):\n",
    "    results = sp.artist_albums(artist_id, limit = 50,country=\"GB\")\n",
    "    tracks = results['items']\n",
    "    while results['next']:\n",
    "        results = sp.next(results)\n",
    "        tracks.extend(results['items'])\n",
    "    return tracks\n",
    "\n",
    "# Same for albums ids\n",
    "def get_album_ids_from_artist(artist_id):\n",
    "    results = sp.artist_albums(artist_id, limit = 50)\n",
    "    tracks = results['items']\n",
    "    while results['next']:\n",
    "        results = sp.next(results)\n",
    "        tracks.extend(results['items'])\n",
    "    return [track[\"id\"] for track in tracks]"
   ]
  },
  {
   "cell_type": "markdown",
   "metadata": {
    "id": "W4DVUzVGMBmY"
   },
   "source": [
    "Example: Coldplay"
   ]
  },
  {
   "cell_type": "code",
   "execution_count": null,
   "metadata": {
    "colab": {
     "base_uri": "https://localhost:8080/"
    },
    "executionInfo": {
     "elapsed": 2439,
     "status": "ok",
     "timestamp": 1623749664870,
     "user": {
      "displayName": "Ignacio Soteras",
      "photoUrl": "",
      "userId": "02050793736257155229"
     },
     "user_tz": -120
    },
    "id": "TIl4480OMDe2",
    "outputId": "7d894d55-79d9-4fa9-8773-ec4d399d2d02"
   },
   "outputs": [],
   "source": [
    "coldplay_id = \"4gzpq5DPGxSnKTe4SA8HAU\"\n",
    "coldplay_albums = get_albums_from_artist(coldplay_id)\n",
    "coldplay_album_ids = get_album_ids_from_artist(coldplay_id)\n",
    "\n",
    "# Check artists that played with coldplay\n",
    "set([artist[\"name\"] for track in coldplay_albums for artist in track[\"artists\"]])"
   ]
  },
  {
   "cell_type": "markdown",
   "metadata": {
    "id": "ljaglNRvMTL5"
   },
   "source": [
    "## Getting the songs of a given album"
   ]
  },
  {
   "cell_type": "code",
   "execution_count": null,
   "metadata": {
    "executionInfo": {
     "elapsed": 531,
     "status": "ok",
     "timestamp": 1623749740975,
     "user": {
      "displayName": "Ignacio Soteras",
      "photoUrl": "",
      "userId": "02050793736257155229"
     },
     "user_tz": -120
    },
    "id": "q3wKfrHbMWO3"
   },
   "outputs": [],
   "source": [
    "def get_track_ids_from_albums(album_ids):\n",
    "    return list(set([i[\"id\"] for j in album_ids for i in sp.album(j)[\"tracks\"][\"items\"]]))"
   ]
  },
  {
   "cell_type": "code",
   "execution_count": null,
   "metadata": {
    "colab": {
     "base_uri": "https://localhost:8080/"
    },
    "executionInfo": {
     "elapsed": 48724,
     "status": "ok",
     "timestamp": 1623749793320,
     "user": {
      "displayName": "Ignacio Soteras",
      "photoUrl": "",
      "userId": "02050793736257155229"
     },
     "user_tz": -120
    },
    "id": "WzZLGfwlMd2C",
    "outputId": "044a9334-ee0d-4a82-c8d4-577874c47d80"
   },
   "outputs": [],
   "source": [
    "coldplay_songs = get_track_ids_from_albums(coldplay_album_ids)\n",
    "\n",
    "len(coldplay_songs)"
   ]
  }
 ],
 "metadata": {
  "colab": {
   "authorship_tag": "ABX9TyPVWC1t3Am5oxfsHrz0cF36",
   "mount_file_id": "1f3HsS5F0GzS75tlHyrwhBGlTWbE0nG4o",
   "name": "Code_along_Spotify_structure.ipynb",
   "provenance": []
  },
  "kernelspec": {
   "display_name": "Python 3 (ipykernel)",
   "language": "python",
   "name": "python3"
  },
  "language_info": {
   "codemirror_mode": {
    "name": "ipython",
    "version": 3
   },
   "file_extension": ".py",
   "mimetype": "text/x-python",
   "name": "python",
   "nbconvert_exporter": "python",
   "pygments_lexer": "ipython3",
   "version": "3.9.13"
  },
  "toc": {
   "base_numbering": 1,
   "nav_menu": {},
   "number_sections": true,
   "sideBar": true,
   "skip_h1_title": false,
   "title_cell": "Table of Contents",
   "title_sidebar": "Contents",
   "toc_cell": false,
   "toc_position": {},
   "toc_section_display": true,
   "toc_window_display": false
  }
 },
 "nbformat": 4,
 "nbformat_minor": 1
}
